{
  "nbformat": 4,
  "nbformat_minor": 0,
  "metadata": {
    "colab": {
      "provenance": []
    },
    "kernelspec": {
      "name": "python3",
      "display_name": "Python 3"
    },
    "language_info": {
      "name": "python"
    }
  },
  "cells": [
    {
      "cell_type": "markdown",
      "source": [
        "# Practical 2\n",
        "## Name: Kunal choure\n",
        "## Roll no :42\n"
      ],
      "metadata": {
        "id": "qJfTNRXlzidI"
      }
    },
    {
      "cell_type": "markdown",
      "source": [
        "## : Implement the perceptron learning algorithm to classify 3-dimensional points into two classes based on a given dataset. Update weights iteratively until convergence."
      ],
      "metadata": {
        "id": "knp-pmJee2Sz"
      }
    },
    {
      "cell_type": "code",
      "execution_count": 1,
      "metadata": {
        "id": "cVihAMB_zVOL"
      },
      "outputs": [],
      "source": [
        "import numpy as np\n",
        "\n",
        "data_points = {\n",
        "    \"P0\": np.array([-1, -1, -1]),\n",
        "    \"P1\": np.array([-1, -1, 1]),\n",
        "    \"P2\": np.array([-1, 1, -1]),\n",
        "    \"P3\": np.array([-1, 1, 1]),\n",
        "    \"P4\": np.array([1, -1, -1]),\n",
        "    \"P5\": np.array([1, -1, 1]),\n",
        "    \"P6\": np.array([1, 1, -1]),\n",
        "    \"P7\": np.array([1, 1, 1])\n",
        "}"
      ]
    },
    {
      "cell_type": "code",
      "source": [
        "C1 = [\"P7\"]\n",
        "C2 = [\"P0\", \"P1\", \"P2\", \"P3\", \"P4\", \"P5\", \"P6\"]"
      ],
      "metadata": {
        "id": "sMGDmxHhfD5j"
      },
      "execution_count": 2,
      "outputs": []
    },
    {
      "cell_type": "code",
      "source": [
        "weights = np.zeros(len(data_points['P0']))\n",
        "LR = 1\n",
        "bias = 0\n",
        "weights"
      ],
      "metadata": {
        "colab": {
          "base_uri": "https://localhost:8080/"
        },
        "id": "l-GIQcA8fFJo",
        "outputId": "060c26f9-1c07-48e8-aa83-5b59632a3bd0"
      },
      "execution_count": 3,
      "outputs": [
        {
          "output_type": "execute_result",
          "data": {
            "text/plain": [
              "array([0., 0., 0.])"
            ]
          },
          "metadata": {},
          "execution_count": 3
        }
      ]
    },
    {
      "cell_type": "code",
      "source": [
        "epochs = 100\n",
        "for i in range(epochs):\n",
        "    for point in C2:\n",
        "        x = data_points[point]\n",
        "\n",
        "        summation = np.dot(weights, x) + bias\n",
        "\n",
        "        if summation <= 0:\n",
        "            weights += LR * x\n",
        "            bias += LR\n",
        "\n",
        "print(weights, \" \", bias)"
      ],
      "metadata": {
        "colab": {
          "base_uri": "https://localhost:8080/"
        },
        "id": "aLMu79QJfWWp",
        "outputId": "2ada361c-37c2-423d-9772-18f22a6ae7f9"
      },
      "execution_count": 4,
      "outputs": [
        {
          "output_type": "stream",
          "name": "stdout",
          "text": [
            "[-1. -1. -1.]   3\n"
          ]
        }
      ]
    },
    {
      "cell_type": "code",
      "source": [
        "new_point = np.array([1, 1, 1])\n",
        "summation = np.dot(weights, new_point) + bias\n",
        "if summation > 0:\n",
        "    print(\"New point belongs to class C2\")\n",
        "else:\n",
        "    print(\"New point belongs to class C1\")"
      ],
      "metadata": {
        "colab": {
          "base_uri": "https://localhost:8080/"
        },
        "id": "b8RApoM_faut",
        "outputId": "25e5f385-4171-4e1f-9dea-d0cfb2e07723"
      },
      "execution_count": 5,
      "outputs": [
        {
          "output_type": "stream",
          "name": "stdout",
          "text": [
            "New point belongs to class C1\n"
          ]
        }
      ]
    },
    {
      "cell_type": "markdown",
      "source": [
        "## : Develop a Python program to determine the number of linearly separable binary classification problems from a given dataset of 3-dimensional points. Validate using multiple class combinations.\n"
      ],
      "metadata": {
        "id": "jc7d-k_wfw4m"
      }
    },
    {
      "cell_type": "code",
      "source": [
        " np.random.seed(42)\n",
        " X = np.random.randn(100, 3)\n",
        " y = np.random.choice([1, -1], size=100)"
      ],
      "metadata": {
        "id": "iMglBXXxfdIn"
      },
      "execution_count": 6,
      "outputs": []
    },
    {
      "cell_type": "code",
      "source": [
        "def perceptron(X, y, lr=0.1, epochs=100):\n",
        "    w = np.zeros(X.shape[1])\n",
        "    b = 0\n",
        "    track = []\n",
        "\n",
        "    for epoch in range(epochs):\n",
        "            for i in range(X.shape[0]):\n",
        "\n",
        "                if y[i] * (np.dot(X[i], w) + b) <= 0:\n",
        "                    w += lr * y[i] * X[i]\n",
        "                    b += lr * y[i]\n",
        "                track.append((w.copy(), b))\n",
        "    return w, b, track"
      ],
      "metadata": {
        "id": "L-GRktElf1QV"
      },
      "execution_count": 7,
      "outputs": []
    },
    {
      "cell_type": "code",
      "source": [
        "w, b, history = perceptron(X, y, lr=0.1, epochs=100)"
      ],
      "metadata": {
        "id": "EUkrMsjwf2nq"
      },
      "execution_count": 8,
      "outputs": []
    },
    {
      "cell_type": "code",
      "source": [
        "def check_seperable(X, y, lr=0.1, epochs=100):\n",
        "    w, b, track = perceptron(X, y, lr, epochs)\n",
        "\n",
        "    if track:\n",
        "        return True\n",
        "    else:\n",
        "        return False"
      ],
      "metadata": {
        "id": "U-0lEeNzf5Ut"
      },
      "execution_count": 9,
      "outputs": []
    },
    {
      "cell_type": "code",
      "source": [
        "X1 = np.random.randn(100, 3)\n",
        "y1 = np.random.choice([1, -1], size=100)\n",
        "\n",
        "X2 = np.random.randn(100, 3)\n",
        "y2 = np.random.choice([1, -1], size=1000)\n",
        "\n",
        "print(check_seperable(X1, y1))\n",
        "print(check_seperable(X2, y2))"
      ],
      "metadata": {
        "colab": {
          "base_uri": "https://localhost:8080/"
        },
        "id": "H9aG31oLf9L-",
        "outputId": "7ddaa5db-ba56-4f0f-d0c0-e331bcfa2e47"
      },
      "execution_count": 10,
      "outputs": [
        {
          "output_type": "stream",
          "name": "stdout",
          "text": [
            "True\n",
            "True\n"
          ]
        }
      ]
    },
    {
      "cell_type": "markdown",
      "source": [
        "## Analyze the convergence of the perceptron learning algorithm by varying the learning rate and epochs. Evaluate its impact on classification accuracy."
      ],
      "metadata": {
        "id": "8db9oFsogB7q"
      }
    },
    {
      "cell_type": "code",
      "source": [
        "def convergence(X, y, lr_vals, epoch_vals):\n",
        "    results = []\n",
        "    for lr in lr_vals:\n",
        "        for epochs in epoch_vals:\n",
        "            w, b, track = perceptron(X, y, lr, epochs)\n",
        "            preds = np.sign(np.dot(X, w) + b)\n",
        "            accuracy = np.mean(preds == y)\n",
        "            results.append((lr, epochs, accuracy))\n",
        "    return results"
      ],
      "metadata": {
        "id": "f5kpZLxdf-2W"
      },
      "execution_count": 11,
      "outputs": []
    },
    {
      "cell_type": "code",
      "source": [
        "lr_vals = [0.01, 0.2, 0.7, 1.0]\n",
        "epoch_vals = [10, 20, 50, 100]\n",
        "results = convergence(X1, y1, lr_vals, epoch_vals)\n",
        "for result in results:\n",
        "    print(f\"LR: {result[0]}, epoch: {result[1]}, accuracy: {result[2]:.4f}\")"
      ],
      "metadata": {
        "colab": {
          "base_uri": "https://localhost:8080/"
        },
        "id": "XYl_dDYqgEv_",
        "outputId": "0425e1fd-e161-4266-dd1c-ef9a56787508"
      },
      "execution_count": 12,
      "outputs": [
        {
          "output_type": "stream",
          "name": "stdout",
          "text": [
            "LR: 0.01, epoch: 10, accuracy: 0.5400\n",
            "LR: 0.01, epoch: 20, accuracy: 0.5300\n",
            "LR: 0.01, epoch: 50, accuracy: 0.5400\n",
            "LR: 0.01, epoch: 100, accuracy: 0.5400\n",
            "LR: 0.2, epoch: 10, accuracy: 0.5400\n",
            "LR: 0.2, epoch: 20, accuracy: 0.5300\n",
            "LR: 0.2, epoch: 50, accuracy: 0.5400\n",
            "LR: 0.2, epoch: 100, accuracy: 0.5400\n",
            "LR: 0.7, epoch: 10, accuracy: 0.5400\n",
            "LR: 0.7, epoch: 20, accuracy: 0.5300\n",
            "LR: 0.7, epoch: 50, accuracy: 0.5400\n",
            "LR: 0.7, epoch: 100, accuracy: 0.5400\n",
            "LR: 1.0, epoch: 10, accuracy: 0.5400\n",
            "LR: 1.0, epoch: 20, accuracy: 0.5300\n",
            "LR: 1.0, epoch: 50, accuracy: 0.5400\n",
            "LR: 1.0, epoch: 100, accuracy: 0.5400\n"
          ]
        }
      ]
    },
    {
      "cell_type": "code",
      "source": [],
      "metadata": {
        "id": "sqVHLCQ2gF2N"
      },
      "execution_count": null,
      "outputs": []
    }
  ]
}