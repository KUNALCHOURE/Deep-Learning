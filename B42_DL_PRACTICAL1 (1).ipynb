{
  "nbformat": 4,
  "nbformat_minor": 0,
  "metadata": {
    "colab": {
      "provenance": []
    },
    "kernelspec": {
      "name": "python3",
      "display_name": "Python 3"
    },
    "language_info": {
      "name": "python"
    }
  },
  "cells": [
    {
      "cell_type": "markdown",
      "source": [
        "# Practical 1\n",
        "## Name:Kunal Choure\n",
        "## Roll No:42"
      ],
      "metadata": {
        "id": "Qyv5nuybsKLb"
      }
    },
    {
      "cell_type": "markdown",
      "source": [
        "## 1. Implementing single layer perceptron model"
      ],
      "metadata": {
        "id": "tIHR3rNstrim"
      }
    },
    {
      "cell_type": "code",
      "source": [],
      "metadata": {
        "id": "AciaYYAUtVwG"
      },
      "execution_count": null,
      "outputs": []
    },
    {
      "cell_type": "code",
      "execution_count": 4,
      "metadata": {
        "colab": {
          "base_uri": "https://localhost:8080/"
        },
        "id": "thS5HLv5sGzE",
        "outputId": "7ef78e89-3429-4c3a-a5df-afa91fc49e5d"
      },
      "outputs": [
        {
          "output_type": "stream",
          "name": "stdout",
          "text": [
            "Input: [0 0], Predicted: 0\n",
            "Input: [0 1], Predicted: 0\n",
            "Input: [1 0], Predicted: 0\n",
            "Input: [1 1], Predicted: 1\n"
          ]
        }
      ],
      "source": [
        "import numpy as np\n",
        "\n",
        "def step_function(x):\n",
        "    return 1 if x >= 0 else 0\n",
        "\n",
        "class Perceptron:\n",
        "    def __init__(self, input_size, learning_rate=0.1):\n",
        "        self.weights = np.zeros(input_size)\n",
        "        self.bias = 0\n",
        "        self.learning_rate = learning_rate\n",
        "\n",
        "    def predict(self, x):\n",
        "        z = np.dot(x, self.weights) + self.bias\n",
        "        return step_function(z)\n",
        "\n",
        "    def train(self, X, y, epochs):\n",
        "        for _ in range(epochs):\n",
        "            for i in range(len(X)):\n",
        "                y_pred = self.predict(X[i])\n",
        "                error = y[i] - y_pred\n",
        "                self.weights += self.learning_rate * error * X[i]\n",
        "                self.bias += self.learning_rate * error\n",
        "\n",
        "X = np.array([[0, 0], [0, 1], [1, 0], [1, 1]])\n",
        "y = np.array([0, 0, 0, 1])\n",
        "\n",
        "perceptron = Perceptron(input_size=2)\n",
        "perceptron.train(X, y, epochs=10)\n",
        "\n",
        "for x in X:\n",
        "    print(f\"Input: {x}, Predicted: {perceptron.predict(x)}\")\n"
      ]
    },
    {
      "cell_type": "code",
      "source": [],
      "metadata": {
        "id": "0zr2fhPEslwr"
      },
      "execution_count": 3,
      "outputs": []
    },
    {
      "cell_type": "markdown",
      "source": [
        "## Implementing gates"
      ],
      "metadata": {
        "id": "WeNrxjPlty6_"
      }
    },
    {
      "cell_type": "code",
      "source": [
        "y_and = np.array([0, 0, 0, 1])\n",
        "perceptron.train(X, y_and, epochs=10)\n",
        "print(\"AND-GATE\")\n",
        "for x in X:\n",
        "    print(f\" Input: {x}, Predicted: {perceptron.predict(x)}\")\n"
      ],
      "metadata": {
        "colab": {
          "base_uri": "https://localhost:8080/"
        },
        "id": "SrWCqIxOstGI",
        "outputId": "82e657df-fc4a-4cd8-e512-0d87af4a1de4"
      },
      "execution_count": 7,
      "outputs": [
        {
          "output_type": "stream",
          "name": "stdout",
          "text": [
            "AND-GATE\n",
            " Input: [0 0], Predicted: 0\n",
            " Input: [0 1], Predicted: 0\n",
            " Input: [1 0], Predicted: 0\n",
            " Input: [1 1], Predicted: 1\n"
          ]
        }
      ]
    },
    {
      "cell_type": "code",
      "source": [
        "y_or = np.array([0, 1, 1, 1])\n",
        "perceptron.train(X, y_or, epochs=10)\n",
        "print(\"OR Gate\")\n",
        "for x in X:\n",
        "    print(f\" Input: {x}, Predicted: {perceptron.predict(x)}\")\n"
      ],
      "metadata": {
        "colab": {
          "base_uri": "https://localhost:8080/"
        },
        "id": "a36qF8sgucAl",
        "outputId": "e0a05d34-4b36-4042-f4fb-4f6d6af3c809"
      },
      "execution_count": 8,
      "outputs": [
        {
          "output_type": "stream",
          "name": "stdout",
          "text": [
            "OR Gate\n",
            " Input: [0 0], Predicted: 0\n",
            " Input: [0 1], Predicted: 1\n",
            " Input: [1 0], Predicted: 1\n",
            " Input: [1 1], Predicted: 1\n"
          ]
        }
      ]
    },
    {
      "cell_type": "code",
      "source": [
        "X_not = np.array([[0], [1]])\n",
        "y_not = np.array([1, 0])\n",
        "\n",
        "perceptron_not = Perceptron(input_size=1)\n",
        "perceptron_not.train(X_not, y_not, epochs=10)\n",
        "\n",
        "print(\"NOT Gate \")\n",
        "for x in X_not:\n",
        "    print(f\" Input: {x}, Predicted: {perceptron_not.predict(x)}\")\n"
      ],
      "metadata": {
        "colab": {
          "base_uri": "https://localhost:8080/"
        },
        "id": "AAKF0q-Du0xG",
        "outputId": "a92c03e3-d2b1-4905-c627-599c624f6149"
      },
      "execution_count": 9,
      "outputs": [
        {
          "output_type": "stream",
          "name": "stdout",
          "text": [
            "NOT Gate \n",
            " Input: [0], Predicted: 1\n",
            " Input: [1], Predicted: 0\n"
          ]
        }
      ]
    },
    {
      "cell_type": "markdown",
      "source": [
        "# Simulate complex login gate"
      ],
      "metadata": {
        "id": "UgIvhuwUu-dO"
      }
    },
    {
      "cell_type": "code",
      "source": [
        "y_nand = np.array([1, 1, 1, 0])\n",
        "perceptron.train(X, y_nand, epochs=10)\n",
        "\n",
        "print(\"NAND Gate\")\n",
        "for x in X:\n",
        "    print(f\"Input: {x}, Predicted: {perceptron.predict(x)}\")\n"
      ],
      "metadata": {
        "colab": {
          "base_uri": "https://localhost:8080/"
        },
        "id": "Hc4Y6tdBu7QL",
        "outputId": "2fe71d49-ec72-4a90-8ade-b1ff915cfd4b"
      },
      "execution_count": 10,
      "outputs": [
        {
          "output_type": "stream",
          "name": "stdout",
          "text": [
            "NAND Gate\n",
            "Input: [0 0], Predicted: 1\n",
            "Input: [0 1], Predicted: 1\n",
            "Input: [1 0], Predicted: 1\n",
            "Input: [1 1], Predicted: 0\n"
          ]
        }
      ]
    },
    {
      "cell_type": "code",
      "source": [
        "y_nor = np.array([1, 0, 0, 0])\n",
        "perceptron.train(X, y_nor, epochs=10)\n",
        "print(\"NOR Gate\")\n",
        "for x in X:\n",
        "    print(f\"Input: {x}, Predicted: {perceptron.predict(x)}\")\n"
      ],
      "metadata": {
        "colab": {
          "base_uri": "https://localhost:8080/"
        },
        "id": "C9GGAksHvH8k",
        "outputId": "90561c8a-f45a-448b-9b04-66874bc71f17"
      },
      "execution_count": 11,
      "outputs": [
        {
          "output_type": "stream",
          "name": "stdout",
          "text": [
            "NOR Gate\n",
            "Input: [0 0], Predicted: 1\n",
            "Input: [0 1], Predicted: 0\n",
            "Input: [1 0], Predicted: 0\n",
            "Input: [1 1], Predicted: 0\n"
          ]
        }
      ]
    },
    {
      "cell_type": "code",
      "source": [
        "y_xor = np.array([0, 1, 1, 0])\n",
        "print(\"XOR Gate\")\n",
        "print(\" Single-layer perceptron cannot solve XOR gate.\")\n"
      ],
      "metadata": {
        "colab": {
          "base_uri": "https://localhost:8080/"
        },
        "id": "Zk_8X9vsvSWB",
        "outputId": "e72d429c-314f-45f6-a68b-0424063a00c2"
      },
      "execution_count": 12,
      "outputs": [
        {
          "output_type": "stream",
          "name": "stdout",
          "text": [
            "XOR Gate\n",
            " Single-layer perceptron cannot solve XOR gate.\n"
          ]
        }
      ]
    },
    {
      "cell_type": "code",
      "source": [
        "y_xnor = np.array([1, 0, 0, 1])\n",
        "print(\"XNOR Gate\")\n",
        "print(\" Single-layer perceptron cannot solve XNOR gate.\")\n"
      ],
      "metadata": {
        "colab": {
          "base_uri": "https://localhost:8080/"
        },
        "id": "yhlchxnDvZYz",
        "outputId": "6b0a97a3-e439-4cd7-e7a0-83629997a7ee"
      },
      "execution_count": 13,
      "outputs": [
        {
          "output_type": "stream",
          "name": "stdout",
          "text": [
            "XNOR Gate\n",
            " Single-layer perceptron cannot solve XNOR gate.\n"
          ]
        }
      ]
    },
    {
      "cell_type": "code",
      "source": [],
      "metadata": {
        "id": "pcfkheqGvtXG"
      },
      "execution_count": null,
      "outputs": []
    }
  ]
}